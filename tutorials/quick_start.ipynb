{
 "cells": [
  {
   "cell_type": "markdown",
   "metadata": {},
   "source": [
    "# Quick Start\n",
    "This the quick-start tutorial as shown in the README.md"
   ]
  },
  {
   "cell_type": "code",
   "execution_count": 2,
   "metadata": {
    "ExecuteTime": {
     "end_time": "2024-04-01T16:12:56.879124800Z",
     "start_time": "2024-04-01T16:12:41.539378400Z"
    },
    "scrolled": true
   },
   "outputs": [
    {
     "data": {
      "application/vnd.jupyter.widget-view+json": {
       "model_id": "b0f47b6162fa4e8a848eac466647c367",
       "version_major": 2,
       "version_minor": 0
      },
      "text/plain": [
       "  0%|          | Downloading : 0.00/0.00 [00:00<?,        ?B/s]"
      ]
     },
     "metadata": {},
     "output_type": "display_data"
    },
    {
     "name": "stdout",
     "output_type": "stream",
     "text": [
      "Error while fetching file https://osf.io/3bxqt/download?revision=2. Dataset fetching aborted.\n"
     ]
    },
    {
     "ename": "RuntimeError",
     "evalue": "Hash mismatch for downloaded file C:\\Users\\Colin\\AppData\\Local\\Temp\\tmpjnyxlhwj\\temp.zip.part, expected 5133fe92b7b8f03ae19219d5f46e4177 but got 460799d278bc1ba7646d72c0f21dd6cd",
     "output_type": "error",
     "traceback": [
      "\u001b[1;31m---------------------------------------------------------------------------\u001b[0m",
      "\u001b[1;31mRuntimeError\u001b[0m                              Traceback (most recent call last)",
      "Cell \u001b[1;32mIn[2], line 7\u001b[0m\n\u001b[0;32m      5\u001b[0m \u001b[38;5;66;03m# Create generic Forward Model\u001b[39;00m\n\u001b[0;32m      6\u001b[0m info \u001b[38;5;241m=\u001b[39m get_info()\n\u001b[1;32m----> 7\u001b[0m fwd \u001b[38;5;241m=\u001b[39m \u001b[43mcreate_forward_model\u001b[49m\u001b[43m(\u001b[49m\u001b[43minfo\u001b[49m\u001b[38;5;241;43m=\u001b[39;49m\u001b[43minfo\u001b[49m\u001b[43m,\u001b[49m\u001b[43m \u001b[49m\u001b[43msampling\u001b[49m\u001b[38;5;241;43m=\u001b[39;49m\u001b[38;5;124;43m'\u001b[39;49m\u001b[38;5;124;43mico2\u001b[39;49m\u001b[38;5;124;43m'\u001b[39;49m\u001b[43m)\u001b[49m\n\u001b[0;32m      9\u001b[0m \u001b[38;5;66;03m# Simulate M/EEG data\u001b[39;00m\n\u001b[0;32m     10\u001b[0m settings \u001b[38;5;241m=\u001b[39m \u001b[38;5;28mdict\u001b[39m(duration_of_trial\u001b[38;5;241m=\u001b[39m\u001b[38;5;241m0.1\u001b[39m)\n",
      "File \u001b[1;32m~\\Desktop\\esinet-main\\esinet\\forward\\forward.py:34\u001b[0m, in \u001b[0;36mcreate_forward_model\u001b[1;34m(sampling, info, verbose, fixed_ori)\u001b[0m\n\u001b[0;32m      7\u001b[0m \u001b[38;5;250m\u001b[39m\u001b[38;5;124;03m''' Create a forward model using the fsaverage template form freesurfer.\u001b[39;00m\n\u001b[0;32m      8\u001b[0m \u001b[38;5;124;03m\u001b[39;00m\n\u001b[0;32m      9\u001b[0m \u001b[38;5;124;03mParameters:\u001b[39;00m\n\u001b[1;32m   (...)\u001b[0m\n\u001b[0;32m     30\u001b[0m \u001b[38;5;124;03m    The forward model object\u001b[39;00m\n\u001b[0;32m     31\u001b[0m \u001b[38;5;124;03m'''\u001b[39;00m\n\u001b[0;32m     33\u001b[0m \u001b[38;5;66;03m# Fetch the template files for our forward model\u001b[39;00m\n\u001b[1;32m---> 34\u001b[0m fs_dir \u001b[38;5;241m=\u001b[39m \u001b[43mmne\u001b[49m\u001b[38;5;241;43m.\u001b[39;49m\u001b[43mdatasets\u001b[49m\u001b[38;5;241;43m.\u001b[39;49m\u001b[43mfetch_fsaverage\u001b[49m\u001b[43m(\u001b[49m\u001b[43mverbose\u001b[49m\u001b[38;5;241;43m=\u001b[39;49m\u001b[43mverbose\u001b[49m\u001b[43m)\u001b[49m\n\u001b[0;32m     35\u001b[0m subjects_dir \u001b[38;5;241m=\u001b[39m os\u001b[38;5;241m.\u001b[39mpath\u001b[38;5;241m.\u001b[39mdirname(fs_dir)\n\u001b[0;32m     37\u001b[0m \u001b[38;5;66;03m# The files live in:\u001b[39;00m\n",
      "File \u001b[1;32m<decorator-gen-504>:22\u001b[0m, in \u001b[0;36mfetch_fsaverage\u001b[1;34m(subjects_dir, verbose)\u001b[0m\n",
      "File \u001b[1;32m~\\.conda\\envs\\esinet_env\\lib\\site-packages\\mne\\datasets\\_fsaverage\\base.py:72\u001b[0m, in \u001b[0;36mfetch_fsaverage\u001b[1;34m(subjects_dir, verbose)\u001b[0m\n\u001b[0;32m     70\u001b[0m fs_dir \u001b[38;5;241m=\u001b[39m op\u001b[38;5;241m.\u001b[39mjoin(subjects_dir, \u001b[38;5;124m'\u001b[39m\u001b[38;5;124mfsaverage\u001b[39m\u001b[38;5;124m'\u001b[39m)\n\u001b[0;32m     71\u001b[0m os\u001b[38;5;241m.\u001b[39mmakedirs(fs_dir, exist_ok\u001b[38;5;241m=\u001b[39m\u001b[38;5;28;01mTrue\u001b[39;00m)\n\u001b[1;32m---> 72\u001b[0m \u001b[43m_manifest_check_download\u001b[49m\u001b[43m(\u001b[49m\n\u001b[0;32m     73\u001b[0m \u001b[43m    \u001b[49m\u001b[43mmanifest_path\u001b[49m\u001b[38;5;241;43m=\u001b[39;49m\u001b[43mop\u001b[49m\u001b[38;5;241;43m.\u001b[39;49m\u001b[43mjoin\u001b[49m\u001b[43m(\u001b[49m\u001b[43mFSAVERAGE_MANIFEST_PATH\u001b[49m\u001b[43m,\u001b[49m\u001b[43m \u001b[49m\u001b[38;5;124;43m'\u001b[39;49m\u001b[38;5;124;43mroot.txt\u001b[39;49m\u001b[38;5;124;43m'\u001b[39;49m\u001b[43m)\u001b[49m\u001b[43m,\u001b[49m\n\u001b[0;32m     74\u001b[0m \u001b[43m    \u001b[49m\u001b[43mdestination\u001b[49m\u001b[38;5;241;43m=\u001b[39;49m\u001b[43mop\u001b[49m\u001b[38;5;241;43m.\u001b[39;49m\u001b[43mjoin\u001b[49m\u001b[43m(\u001b[49m\u001b[43msubjects_dir\u001b[49m\u001b[43m)\u001b[49m\u001b[43m,\u001b[49m\n\u001b[0;32m     75\u001b[0m \u001b[43m    \u001b[49m\u001b[43murl\u001b[49m\u001b[38;5;241;43m=\u001b[39;49m\u001b[38;5;124;43m'\u001b[39;49m\u001b[38;5;124;43mhttps://osf.io/3bxqt/download?revision=2\u001b[39;49m\u001b[38;5;124;43m'\u001b[39;49m\u001b[43m,\u001b[49m\n\u001b[0;32m     76\u001b[0m \u001b[43m    \u001b[49m\u001b[43mhash_\u001b[49m\u001b[38;5;241;43m=\u001b[39;49m\u001b[38;5;124;43m'\u001b[39;49m\u001b[38;5;124;43m5133fe92b7b8f03ae19219d5f46e4177\u001b[39;49m\u001b[38;5;124;43m'\u001b[39;49m\u001b[43m,\u001b[49m\n\u001b[0;32m     77\u001b[0m \u001b[43m\u001b[49m\u001b[43m)\u001b[49m\n\u001b[0;32m     78\u001b[0m _manifest_check_download(\n\u001b[0;32m     79\u001b[0m     manifest_path\u001b[38;5;241m=\u001b[39mop\u001b[38;5;241m.\u001b[39mjoin(FSAVERAGE_MANIFEST_PATH, \u001b[38;5;124m'\u001b[39m\u001b[38;5;124mbem.txt\u001b[39m\u001b[38;5;124m'\u001b[39m),\n\u001b[0;32m     80\u001b[0m     destination\u001b[38;5;241m=\u001b[39mop\u001b[38;5;241m.\u001b[39mjoin(subjects_dir, \u001b[38;5;124m'\u001b[39m\u001b[38;5;124mfsaverage\u001b[39m\u001b[38;5;124m'\u001b[39m),\n\u001b[0;32m     81\u001b[0m     url\u001b[38;5;241m=\u001b[39m\u001b[38;5;124m'\u001b[39m\u001b[38;5;124mhttps://osf.io/7ve8g/download?revision=4\u001b[39m\u001b[38;5;124m'\u001b[39m,\n\u001b[0;32m     82\u001b[0m     hash_\u001b[38;5;241m=\u001b[39m\u001b[38;5;124m'\u001b[39m\u001b[38;5;124mb31509cdcf7908af6a83dc5ee8f49fb1\u001b[39m\u001b[38;5;124m'\u001b[39m,\n\u001b[0;32m     83\u001b[0m )\n\u001b[0;32m     84\u001b[0m \u001b[38;5;28;01mreturn\u001b[39;00m fs_dir\n",
      "File \u001b[1;32m~\\.conda\\envs\\esinet_env\\lib\\site-packages\\mne\\datasets\\utils.py:853\u001b[0m, in \u001b[0;36m_manifest_check_download\u001b[1;34m(manifest_path, destination, url, hash_)\u001b[0m\n\u001b[0;32m    850\u001b[0m logger\u001b[38;5;241m.\u001b[39minfo(\u001b[38;5;124m'\u001b[39m\u001b[38;5;124mDownloading missing files remotely\u001b[39m\u001b[38;5;124m'\u001b[39m)\n\u001b[0;32m    852\u001b[0m fname_path \u001b[38;5;241m=\u001b[39m op\u001b[38;5;241m.\u001b[39mjoin(path, \u001b[38;5;124m'\u001b[39m\u001b[38;5;124mtemp.zip\u001b[39m\u001b[38;5;124m'\u001b[39m)\n\u001b[1;32m--> 853\u001b[0m \u001b[43m_fetch_file\u001b[49m\u001b[43m(\u001b[49m\u001b[43murl\u001b[49m\u001b[43m,\u001b[49m\u001b[43m \u001b[49m\u001b[43mfname_path\u001b[49m\u001b[43m,\u001b[49m\u001b[43m \u001b[49m\u001b[43mhash_\u001b[49m\u001b[38;5;241;43m=\u001b[39;49m\u001b[43mhash_\u001b[49m\u001b[43m)\u001b[49m\n\u001b[0;32m    854\u001b[0m logger\u001b[38;5;241m.\u001b[39minfo(\u001b[38;5;124m'\u001b[39m\u001b[38;5;124mExtracting missing file\u001b[39m\u001b[38;5;132;01m%s\u001b[39;00m\u001b[38;5;124m'\u001b[39m \u001b[38;5;241m%\u001b[39m (_pl(need),))\n\u001b[0;32m    855\u001b[0m \u001b[38;5;28;01mwith\u001b[39;00m zipfile\u001b[38;5;241m.\u001b[39mZipFile(fname_path, \u001b[38;5;124m'\u001b[39m\u001b[38;5;124mr\u001b[39m\u001b[38;5;124m'\u001b[39m) \u001b[38;5;28;01mas\u001b[39;00m ff:\n",
      "File \u001b[1;32m<decorator-gen-3>:24\u001b[0m, in \u001b[0;36m_fetch_file\u001b[1;34m(url, file_name, print_destination, resume, hash_, timeout, hash_type, verbose)\u001b[0m\n",
      "File \u001b[1;32m~\\.conda\\envs\\esinet_env\\lib\\site-packages\\mne\\utils\\fetching.py:125\u001b[0m, in \u001b[0;36m_fetch_file\u001b[1;34m(url, file_name, print_destination, resume, hash_, timeout, hash_type, verbose)\u001b[0m\n\u001b[0;32m    123\u001b[0m     hashsum \u001b[38;5;241m=\u001b[39m hashfunc(temp_file_name, hash_type\u001b[38;5;241m=\u001b[39mhash_type)\n\u001b[0;32m    124\u001b[0m     \u001b[38;5;28;01mif\u001b[39;00m hash_ \u001b[38;5;241m!=\u001b[39m hashsum:\n\u001b[1;32m--> 125\u001b[0m         \u001b[38;5;28;01mraise\u001b[39;00m \u001b[38;5;167;01mRuntimeError\u001b[39;00m(\u001b[38;5;124m'\u001b[39m\u001b[38;5;124mHash mismatch for downloaded file \u001b[39m\u001b[38;5;132;01m%s\u001b[39;00m\u001b[38;5;124m, \u001b[39m\u001b[38;5;124m'\u001b[39m\n\u001b[0;32m    126\u001b[0m                            \u001b[38;5;124m'\u001b[39m\u001b[38;5;124mexpected \u001b[39m\u001b[38;5;132;01m%s\u001b[39;00m\u001b[38;5;124m but got \u001b[39m\u001b[38;5;132;01m%s\u001b[39;00m\u001b[38;5;124m'\u001b[39m\n\u001b[0;32m    127\u001b[0m                            \u001b[38;5;241m%\u001b[39m (temp_file_name, hash_, hashsum))\n\u001b[0;32m    128\u001b[0m shutil\u001b[38;5;241m.\u001b[39mmove(temp_file_name, file_name)\n\u001b[0;32m    129\u001b[0m \u001b[38;5;28;01mif\u001b[39;00m print_destination \u001b[38;5;129;01mis\u001b[39;00m \u001b[38;5;28;01mTrue\u001b[39;00m:\n",
      "\u001b[1;31mRuntimeError\u001b[0m: Hash mismatch for downloaded file C:\\Users\\Colin\\AppData\\Local\\Temp\\tmpjnyxlhwj\\temp.zip.part, expected 5133fe92b7b8f03ae19219d5f46e4177 but got 460799d278bc1ba7646d72c0f21dd6cd"
     ]
    }
   ],
   "source": [
    "import sys; sys.path.insert(0, '../')\n",
    "from esinet import Simulation, Net\n",
    "from esinet.forward import create_forward_model, get_info\n",
    "\n",
    "# Create generic Forward Model\n",
    "info = get_info()\n",
    "fwd = create_forward_model(info=info, sampling='ico2')\n",
    "\n",
    "# Simulate M/EEG data\n",
    "settings = dict(duration_of_trial=0.1)\n",
    "sim = Simulation(fwd, info, settings=settings)\n",
    "sim.simulate(n_samples=1000)\n",
    "\n",
    "# Train neural network (LSTM) on the simulated data\n",
    "net = Net(fwd)\n",
    "net.fit(sim, epochs=30)\n",
    "\n",
    "# Plot\n",
    "stc = net.predict(sim.eeg_data[0])[0]\n",
    "sim.source_data[0].plot(surface=\"white\", hemi=\"both\")\n",
    "stc.plot(surface=\"white\", hemi=\"both\")"
   ]
  },
  {
   "cell_type": "code",
   "execution_count": 11,
   "metadata": {},
   "outputs": [
    {
     "ename": "ModuleNotFoundError",
     "evalue": "No module named 'colorednoise'",
     "output_type": "error",
     "traceback": [
      "\u001b[1;31m---------------------------------------------------------------------------\u001b[0m",
      "\u001b[1;31mModuleNotFoundError\u001b[0m                       Traceback (most recent call last)",
      "\u001b[1;32m<ipython-input-11-c2384ef5d9fd>\u001b[0m in \u001b[0;36m<module>\u001b[1;34m()\u001b[0m\n\u001b[1;32m----> 1\u001b[1;33m \u001b[1;32mimport\u001b[0m \u001b[0mcolorednoise\u001b[0m\u001b[1;33m\u001b[0m\u001b[1;33m\u001b[0m\u001b[0m\n\u001b[0m",
      "\u001b[1;31mModuleNotFoundError\u001b[0m: No module named 'colorednoise'"
     ]
    }
   ],
   "source": [
    "import colorednoise"
   ]
  },
  {
   "cell_type": "code",
   "execution_count": null,
   "metadata": {
    "collapsed": true
   },
   "outputs": [],
   "source": []
  }
 ],
 "metadata": {
  "kernelspec": {
   "display_name": "Python [conda env:.conda-esinet_env] *",
   "language": "python",
   "name": "conda-env-.conda-esinet_env-py"
  },
  "language_info": {
   "codemirror_mode": {
    "name": "ipython",
    "version": 3
   },
   "file_extension": ".py",
   "mimetype": "text/x-python",
   "name": "python",
   "nbconvert_exporter": "python",
   "pygments_lexer": "ipython3",
   "version": "3.8.3"
  },
  "vscode": {
   "interpreter": {
    "hash": "a9587d79750f5d7fc5c0560e15a7a8a49dff11015373bda407c2fe4ab31d0fe5"
   }
  }
 },
 "nbformat": 4,
 "nbformat_minor": 2
}
